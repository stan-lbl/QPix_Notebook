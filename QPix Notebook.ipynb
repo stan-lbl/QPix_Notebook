{
 "cells": [
  {
   "cell_type": "code",
   "execution_count": 1,
   "id": "a0f89252",
   "metadata": {
    "init_cell": true
   },
   "outputs": [],
   "source": [
    "import pandas as pd\n",
    "import numpy as np\n",
    "import matplotlib.pyplot as plt\n",
    "import seaborn as sns\n",
    "%matplotlib inline\n",
    "import io\n",
    "import ipywidgets as widgets\n",
    "\n",
    "from pandas import option_context\n",
    "from IPython.display import display\n",
    "from IPython.display import HTML\n",
    "from ipywidgets import FileUpload\n",
    "\n",
    "from IPython.display import Javascript\n",
    "from IPython.display import display_html"
   ]
  },
  {
   "cell_type": "markdown",
   "id": "8cf3d7c8",
   "metadata": {},
   "source": [
    "# Upload QPix Picking Summary .csv"
   ]
  },
  {
   "cell_type": "code",
   "execution_count": 2,
   "id": "362fe545",
   "metadata": {
    "init_cell": true,
    "scrolled": false
   },
   "outputs": [
    {
     "data": {
      "application/vnd.jupyter.widget-view+json": {
       "model_id": "",
       "version_major": 2,
       "version_minor": 0
      },
      "text/plain": [
       "FileUpload(value={}, accept='*.csv', description='Upload')"
      ]
     },
     "metadata": {},
     "output_type": "display_data"
    }
   ],
   "source": [
    "# Create upload file widget\n",
    "# Only accept a single CSV file\n",
    "uploader = widgets.FileUpload(accept='*.csv', multiple=False)\n",
    "display(uploader)"
   ]
  },
  {
   "cell_type": "code",
   "execution_count": 3,
   "id": "e52f893b",
   "metadata": {
    "init_cell": true
   },
   "outputs": [
    {
     "data": {
      "application/vnd.jupyter.widget-view+json": {
       "model_id": "",
       "version_major": 2,
       "version_minor": 0
      },
      "text/plain": [
       "Button(description='Run Notebook', style=ButtonStyle())"
      ]
     },
     "metadata": {},
     "output_type": "display_data"
    }
   ],
   "source": [
    "# Execute notebook\n",
    "# https://stackoverflow.com/questions/32714783/ipython-run-all-cells-below-from-a-widget\n",
    "def run_all(ev):\n",
    "    display(Javascript('IPython.notebook.execute_cells_below()'))\n",
    "\n",
    "button = widgets.Button(description=\"Run Notebook\")\n",
    "button.on_click(run_all)\n",
    "display(button)"
   ]
  },
  {
   "cell_type": "code",
   "execution_count": 5,
   "id": "9a8dd58b",
   "metadata": {
    "scrolled": true
   },
   "outputs": [
    {
     "data": {
      "text/html": [
       "<div>\n",
       "<style scoped>\n",
       "    .dataframe tbody tr th:only-of-type {\n",
       "        vertical-align: middle;\n",
       "    }\n",
       "\n",
       "    .dataframe tbody tr th {\n",
       "        vertical-align: top;\n",
       "    }\n",
       "\n",
       "    .dataframe thead th {\n",
       "        text-align: right;\n",
       "    }\n",
       "</style>\n",
       "<table border=\"1\" class=\"dataframe\">\n",
       "  <thead>\n",
       "    <tr style=\"text-align: right;\">\n",
       "      <th></th>\n",
       "      <th>Source Barcode</th>\n",
       "      <th>Source Region</th>\n",
       "      <th>Feature Position X</th>\n",
       "      <th>Feature Position Y</th>\n",
       "      <th>Destination Barcode</th>\n",
       "      <th>Destination Well</th>\n",
       "    </tr>\n",
       "  </thead>\n",
       "  <tbody>\n",
       "    <tr>\n",
       "      <th>1</th>\n",
       "      <td>Auto6378355269472791240</td>\n",
       "      <td>A1</td>\n",
       "      <td>41.7656</td>\n",
       "      <td>27.8115</td>\n",
       "      <td>Auto6378355315410504541</td>\n",
       "      <td>A1</td>\n",
       "    </tr>\n",
       "    <tr>\n",
       "      <th>2</th>\n",
       "      <td>Auto6378355269472791240</td>\n",
       "      <td>B1</td>\n",
       "      <td>19.6089</td>\n",
       "      <td>55.2813</td>\n",
       "      <td>Auto6378355315410504541</td>\n",
       "      <td>B1</td>\n",
       "    </tr>\n",
       "    <tr>\n",
       "      <th>3</th>\n",
       "      <td>Auto6378355269472791240</td>\n",
       "      <td>C1</td>\n",
       "      <td>26.8465</td>\n",
       "      <td>83.0642</td>\n",
       "      <td>Auto6378355315410504541</td>\n",
       "      <td>C1</td>\n",
       "    </tr>\n",
       "    <tr>\n",
       "      <th>4</th>\n",
       "      <td>Auto6378355269472791240</td>\n",
       "      <td>D1</td>\n",
       "      <td>23.8204</td>\n",
       "      <td>111.2010</td>\n",
       "      <td>Auto6378355315410504541</td>\n",
       "      <td>D1</td>\n",
       "    </tr>\n",
       "    <tr>\n",
       "      <th>5</th>\n",
       "      <td>Auto6378355269472791240</td>\n",
       "      <td>E1</td>\n",
       "      <td>22.0780</td>\n",
       "      <td>136.3550</td>\n",
       "      <td>Auto6378355315410504541</td>\n",
       "      <td>E1</td>\n",
       "    </tr>\n",
       "  </tbody>\n",
       "</table>\n",
       "</div>"
      ],
      "text/plain": [
       "            Source Barcode Source Region  Feature Position X  \\\n",
       "1  Auto6378355269472791240            A1             41.7656   \n",
       "2  Auto6378355269472791240            B1             19.6089   \n",
       "3  Auto6378355269472791240            C1             26.8465   \n",
       "4  Auto6378355269472791240            D1             23.8204   \n",
       "5  Auto6378355269472791240            E1             22.0780   \n",
       "\n",
       "   Feature Position Y      Destination Barcode Destination Well  \n",
       "1             27.8115  Auto6378355315410504541               A1  \n",
       "2             55.2813  Auto6378355315410504541               B1  \n",
       "3             83.0642  Auto6378355315410504541               C1  \n",
       "4            111.2010  Auto6378355315410504541               D1  \n",
       "5            136.3550  Auto6378355315410504541               E1  "
      ]
     },
     "execution_count": 5,
     "metadata": {},
     "output_type": "execute_result"
    }
   ],
   "source": [
    "# Display the opened CSV\n",
    "csv_file = list(uploader.value.values())[0]\n",
    "csv_content = csv_file['content']\n",
    "csv_content = io.StringIO(csv_content.decode('utf-8'))\n",
    "\n",
    "df = pd.read_csv(csv_content, skiprows=11)\n",
    "df.index += 1\n",
    "df.head()"
   ]
  },
  {
   "cell_type": "code",
   "execution_count": 6,
   "id": "827427b1",
   "metadata": {},
   "outputs": [],
   "source": [
    "# DATA CLEANING\n",
    "\n",
    "# Split Destination Well column into row (letter) and column (number)\n",
    "df['Source Row'] = df['Source Region'].apply(lambda x: x[0])\n",
    "df['Source Column'] = pd.to_numeric(df['Source Region'].apply(lambda x: x[1:]))\n",
    "df['Destination Row'] = df['Destination Well'].apply(lambda x: x[0])\n",
    "df['Destination Column'] = pd.to_numeric(df['Destination Well'].apply(lambda x: x[1:]))\n",
    "df = df[['Source Barcode','Source Region','Source Row','Source Column','Destination Barcode',\n",
    "         'Destination Well','Destination Row','Destination Column','Feature Position X','Feature Position Y']]\n",
    "df.sort_values('Source Barcode')\n",
    "\n",
    "# Categorize each Qtray as 1 or 2\n",
    "qtray_values = df['Source Barcode'].value_counts().sort_values(ascending=True).index.to_list()\n",
    "if len(qtray_values) > 1:\n",
    "    qtray_names = [df['Source Barcode'].eq(qtray_values[0]), df['Source Barcode'].eq(qtray_values[1])]\n",
    "    qtray_numbers = [1, 2]\n",
    "else:\n",
    "    qtray_names = [df['Source Barcode'].eq(qtray_values[0])]\n",
    "    qtray_numbers = [1]\n",
    "df['Qtray'] = np.select(qtray_names, qtray_numbers, default = 0)\n",
    "\n",
    "# Reorder column names\n",
    "df = df[['Source Barcode','Qtray','Source Region','Source Row','Source Column','Destination Barcode',\n",
    "         'Destination Well','Destination Row','Destination Column','Feature Position X','Feature Position Y']]"
   ]
  },
  {
   "cell_type": "code",
   "execution_count": 7,
   "id": "10516a84",
   "metadata": {},
   "outputs": [
    {
     "name": "stdout",
     "output_type": "stream",
     "text": [
      "Select Source Barcode below:\n"
     ]
    },
    {
     "data": {
      "application/vnd.jupyter.widget-view+json": {
       "model_id": "0f5a9fa4221b4732bda31104c57dcc84",
       "version_major": 2,
       "version_minor": 0
      },
      "text/plain": [
       "Dropdown(options=('', 'ALL', 'Auto6378355269472791240'), value='')"
      ]
     },
     "metadata": {},
     "output_type": "display_data"
    },
    {
     "name": "stdout",
     "output_type": "stream",
     "text": [
      "Select Destination Barcode below:\n"
     ]
    },
    {
     "data": {
      "application/vnd.jupyter.widget-view+json": {
       "model_id": "5a0705167d294ff2bb484d36cdbd9353",
       "version_major": 2,
       "version_minor": 0
      },
      "text/plain": [
       "Dropdown(options=('', 'ALL', 'Auto6378355315410504541', 'Auto6378355325394026342', 'Auto6378355335366160713', …"
      ]
     },
     "metadata": {},
     "output_type": "display_data"
    },
    {
     "data": {
      "application/vnd.jupyter.widget-view+json": {
       "model_id": "86b05c23db974669b493a168e1588237",
       "version_major": 2,
       "version_minor": 0
      },
      "text/plain": [
       "Output()"
      ]
     },
     "metadata": {},
     "output_type": "display_data"
    }
   ],
   "source": [
    "# DATA FILTERING\n",
    "\n",
    "# https://towardsdatascience.com/bring-your-jupyter-notebook-to-life-with-interactive-widgets-bc12e03f0916\n",
    "\n",
    "# Create a function to find the unique values, sort them, and add them to a list for filtering\n",
    "ALL = 'ALL'\n",
    "def unique_sorted_values_plus_ALL(array):\n",
    "    unique = array.unique().tolist()\n",
    "    unique.sort()\n",
    "    unique.insert(0, '')\n",
    "    unique.insert(1, ALL)\n",
    "    return unique\n",
    "\n",
    "# Link two dropdown filters\n",
    "# Create output object to capture filtered (or unfiltered) dataframes\n",
    "output = widgets.Output()\n",
    "\n",
    "# Create dropdown objects for source and destination barcode columns\n",
    "dropdown_source = widgets.Dropdown(options = unique_sorted_values_plus_ALL(df['Source Barcode']))\n",
    "dropdown_destination = widgets.Dropdown(options = unique_sorted_values_plus_ALL(df['Destination Barcode']))\n",
    "\n",
    "# Event handlers for both filters\n",
    "def common_filtering(source, destination):\n",
    "    output.clear_output()\n",
    "\n",
    "    if (source == ALL) & (destination == ALL):\n",
    "        common_filter = df\n",
    "    elif (source == ALL):\n",
    "        common_filter = df[df['Destination Barcode'] == destination]\n",
    "    elif (destination == ALL):\n",
    "        common_filter = df[df['Source Barcode'] == source]\n",
    "    else:\n",
    "        common_filter = df[(df['Source Barcode'] == source) & (df['Destination Barcode'] == destination)]\n",
    "    \n",
    "    with output:\n",
    "        display(common_filter)\n",
    "\n",
    "# Event listener functions\n",
    "def dropdown_source_eventhandler(change):\n",
    "    common_filtering(change.new, dropdown_destination.value) \n",
    "def dropdown_destination_eventhandler(change):\n",
    "    common_filtering(dropdown_source.value, change.new)\n",
    "\n",
    "# Event listeners\n",
    "dropdown_source.observe(dropdown_source_eventhandler, names='value')\n",
    "dropdown_destination.observe(dropdown_destination_eventhandler, names='value')\n",
    "\n",
    "print('Select Source Barcode below:')\n",
    "display(dropdown_source)\n",
    "print('Select Destination Barcode below:')\n",
    "display(dropdown_destination)\n",
    "\n",
    "display(output)"
   ]
  },
  {
   "cell_type": "code",
   "execution_count": 8,
   "id": "d17607ec",
   "metadata": {},
   "outputs": [],
   "source": [
    "# number of qtrays\n",
    "source_df = df['Source Barcode'].value_counts().reset_index()\n",
    "source_df.index += 1\n",
    "source_df.columns = ['Source Qtray', 'Picked Features']\n",
    "\n",
    "# number of features per (source) region per Qtray\n",
    "temp_source_df = df.groupby(['Source Barcode'])['Source Region'].value_counts()\n",
    "source_features_df = temp_source_df.to_frame()\n",
    "source_features_df.columns = ['Picked Features']\n",
    "source_features_df.sort_index(ascending=True)\n",
    "\n",
    "destination_df = df['Destination Barcode'].value_counts().reset_index()\n",
    "destination_df.index += 1\n",
    "destination_df.columns = ['Destination Plate', 'Deposited Features']"
   ]
  },
  {
   "cell_type": "markdown",
   "id": "6eeca239",
   "metadata": {},
   "source": [
    "# Picking Overview"
   ]
  },
  {
   "cell_type": "code",
   "execution_count": 9,
   "id": "f9fab7c4",
   "metadata": {},
   "outputs": [],
   "source": [
    "# CREATE LABWARE TEMPLATES\n",
    "\n",
    "# Qtray source plate template\n",
    "# this layout will be used for the 'Regional Picking' process\n",
    "rows = ['F','E','D','C','B','A']\n",
    "qtray_df = pd.DataFrame(index=rows,columns=range(8,0,-1))\n",
    "\n",
    "# Qtray source plate template FLIPPED\n",
    "# this layout will be used for the 'Regional Picking with Set Destination' process\n",
    "rows = ['H','G','F','E','D','C','B','A']\n",
    "qtray_flipped_df = pd.DataFrame(index=rows,columns=range(6,0,-1))\n",
    "\n",
    "# Nunc destination plate template\n",
    "rows = ['A','B','C','D','E','F','G','H']\n",
    "nunc_plate_df = pd.DataFrame(index=rows,columns=range(1,13))"
   ]
  },
  {
   "cell_type": "code",
   "execution_count": 10,
   "id": "a6b2ab5a",
   "metadata": {},
   "outputs": [],
   "source": [
    "# Determine which plate template to use\n",
    "df['Map Source Well to Destination Well'] = df['Source Region'].equals(df['Destination Well'])\n",
    "map_source_to_dest = df['Map Source Well to Destination Well'].value_counts().index.tolist()\n",
    "\n",
    "if len(map_source_to_dest) == 1 and map_source_to_dest == True:\n",
    "    qtray_format = '6rows_8cols'\n",
    "else:\n",
    "    qtray_format = '8rows_6cols'\n",
    "    \n",
    "# Create dictionaries for holding all plate and well information\n",
    "source_plate_to_destination_dict = {barcode: nunc_plate_df.copy(deep=True) for barcode in df['Destination Barcode']}\n",
    "source_well_to_destination_dict = {barcode: nunc_plate_df.copy(deep=True) for barcode in df['Destination Barcode']}\n",
    "source_plate_feature_dict = {barcode: qtray_df.copy(deep=True) for barcode in df['Source Barcode']}\n",
    "source_plate_flipped_feature_dict = {barcode: qtray_flipped_df.copy(deep=True) for barcode in df['Source Barcode']}"
   ]
  },
  {
   "cell_type": "code",
   "execution_count": 48,
   "id": "3b85da44",
   "metadata": {},
   "outputs": [
    {
     "data": {
      "text/plain": [
       "{'Auto6378355315410504541':     1    2    3    4    5    6    7    8    9    10   11   12\n",
       " A  NaN  NaN  NaN  NaN  NaN  NaN  NaN  NaN  NaN  NaN  NaN  NaN\n",
       " B  NaN  NaN  NaN  NaN  NaN  NaN  NaN  NaN  NaN  NaN  NaN  NaN\n",
       " C  NaN  NaN  NaN  NaN  NaN  NaN  NaN  NaN  NaN  NaN  NaN  NaN\n",
       " D  NaN  NaN  NaN  NaN  NaN  NaN  NaN  NaN  NaN  NaN  NaN  NaN\n",
       " E  NaN  NaN  NaN  NaN  NaN  NaN  NaN  NaN  NaN  NaN  NaN  NaN\n",
       " F  NaN  NaN  NaN  NaN  NaN  NaN  NaN  NaN  NaN  NaN  NaN  NaN\n",
       " G  NaN  NaN  NaN  NaN  NaN  NaN  NaN  NaN  NaN  NaN  NaN  NaN\n",
       " H  NaN  NaN  NaN  NaN  NaN  NaN  NaN  NaN  NaN  NaN  NaN  NaN,\n",
       " 'Auto6378355325394026342':     1    2    3    4    5    6    7    8    9    10   11   12\n",
       " A  NaN  NaN  NaN  NaN  NaN  NaN  NaN  NaN  NaN  NaN  NaN  NaN\n",
       " B  NaN  NaN  NaN  NaN  NaN  NaN  NaN  NaN  NaN  NaN  NaN  NaN\n",
       " C  NaN  NaN  NaN  NaN  NaN  NaN  NaN  NaN  NaN  NaN  NaN  NaN\n",
       " D  NaN  NaN  NaN  NaN  NaN  NaN  NaN  NaN  NaN  NaN  NaN  NaN\n",
       " E  NaN  NaN  NaN  NaN  NaN  NaN  NaN  NaN  NaN  NaN  NaN  NaN\n",
       " F  NaN  NaN  NaN  NaN  NaN  NaN  NaN  NaN  NaN  NaN  NaN  NaN\n",
       " G  NaN  NaN  NaN  NaN  NaN  NaN  NaN  NaN  NaN  NaN  NaN  NaN\n",
       " H  NaN  NaN  NaN  NaN  NaN  NaN  NaN  NaN  NaN  NaN  NaN  NaN,\n",
       " 'Auto6378355335366160713':     1    2    3    4    5    6    7    8    9    10   11   12\n",
       " A  NaN  NaN  NaN  NaN  NaN  NaN  NaN  NaN  NaN  NaN  NaN  NaN\n",
       " B  NaN  NaN  NaN  NaN  NaN  NaN  NaN  NaN  NaN  NaN  NaN  NaN\n",
       " C  NaN  NaN  NaN  NaN  NaN  NaN  NaN  NaN  NaN  NaN  NaN  NaN\n",
       " D  NaN  NaN  NaN  NaN  NaN  NaN  NaN  NaN  NaN  NaN  NaN  NaN\n",
       " E  NaN  NaN  NaN  NaN  NaN  NaN  NaN  NaN  NaN  NaN  NaN  NaN\n",
       " F  NaN  NaN  NaN  NaN  NaN  NaN  NaN  NaN  NaN  NaN  NaN  NaN\n",
       " G  NaN  NaN  NaN  NaN  NaN  NaN  NaN  NaN  NaN  NaN  NaN  NaN\n",
       " H  NaN  NaN  NaN  NaN  NaN  NaN  NaN  NaN  NaN  NaN  NaN  NaN,\n",
       " 'Auto6378355345316098514':     1    2    3    4    5    6    7    8    9    10   11   12\n",
       " A  NaN  NaN  NaN  NaN  NaN  NaN  NaN  NaN  NaN  NaN  NaN  NaN\n",
       " B  NaN  NaN  NaN  NaN  NaN  NaN  NaN  NaN  NaN  NaN  NaN  NaN\n",
       " C  NaN  NaN  NaN  NaN  NaN  NaN  NaN  NaN  NaN  NaN  NaN  NaN\n",
       " D  NaN  NaN  NaN  NaN  NaN  NaN  NaN  NaN  NaN  NaN  NaN  NaN\n",
       " E  NaN  NaN  NaN  NaN  NaN  NaN  NaN  NaN  NaN  NaN  NaN  NaN\n",
       " F  NaN  NaN  NaN  NaN  NaN  NaN  NaN  NaN  NaN  NaN  NaN  NaN\n",
       " G  NaN  NaN  NaN  NaN  NaN  NaN  NaN  NaN  NaN  NaN  NaN  NaN\n",
       " H  NaN  NaN  NaN  NaN  NaN  NaN  NaN  NaN  NaN  NaN  NaN  NaN,\n",
       " 'Auto6378355355282036205':     1    2    3    4    5    6    7    8    9    10   11   12\n",
       " A  NaN  NaN  NaN  NaN  NaN  NaN  NaN  NaN  NaN  NaN  NaN  NaN\n",
       " B  NaN  NaN  NaN  NaN  NaN  NaN  NaN  NaN  NaN  NaN  NaN  NaN\n",
       " C  NaN  NaN  NaN  NaN  NaN  NaN  NaN  NaN  NaN  NaN  NaN  NaN\n",
       " D  NaN  NaN  NaN  NaN  NaN  NaN  NaN  NaN  NaN  NaN  NaN  NaN\n",
       " E  NaN  NaN  NaN  NaN  NaN  NaN  NaN  NaN  NaN  NaN  NaN  NaN\n",
       " F  NaN  NaN  NaN  NaN  NaN  NaN  NaN  NaN  NaN  NaN  NaN  NaN\n",
       " G  NaN  NaN  NaN  NaN  NaN  NaN  NaN  NaN  NaN  NaN  NaN  NaN\n",
       " H  NaN  NaN  NaN  NaN  NaN  NaN  NaN  NaN  NaN  NaN  NaN  NaN,\n",
       " 'Auto6378355365158503236':     1    2    3    4    5    6    7    8    9    10   11   12\n",
       " A  NaN  NaN  NaN  NaN  NaN  NaN  NaN  NaN  NaN  NaN  NaN  NaN\n",
       " B  NaN  NaN  NaN  NaN  NaN  NaN  NaN  NaN  NaN  NaN  NaN  NaN\n",
       " C  NaN  NaN  NaN  NaN  NaN  NaN  NaN  NaN  NaN  NaN  NaN  NaN\n",
       " D  NaN  NaN  NaN  NaN  NaN  NaN  NaN  NaN  NaN  NaN  NaN  NaN\n",
       " E  NaN  NaN  NaN  NaN  NaN  NaN  NaN  NaN  NaN  NaN  NaN  NaN\n",
       " F  NaN  NaN  NaN  NaN  NaN  NaN  NaN  NaN  NaN  NaN  NaN  NaN\n",
       " G  NaN  NaN  NaN  NaN  NaN  NaN  NaN  NaN  NaN  NaN  NaN  NaN\n",
       " H  NaN  NaN  NaN  NaN  NaN  NaN  NaN  NaN  NaN  NaN  NaN  NaN,\n",
       " 'Auto6378355375033989307':     1    2    3    4    5    6    7    8    9    10   11   12\n",
       " A  NaN  NaN  NaN  NaN  NaN  NaN  NaN  NaN  NaN  NaN  NaN  NaN\n",
       " B  NaN  NaN  NaN  NaN  NaN  NaN  NaN  NaN  NaN  NaN  NaN  NaN\n",
       " C  NaN  NaN  NaN  NaN  NaN  NaN  NaN  NaN  NaN  NaN  NaN  NaN\n",
       " D  NaN  NaN  NaN  NaN  NaN  NaN  NaN  NaN  NaN  NaN  NaN  NaN\n",
       " E  NaN  NaN  NaN  NaN  NaN  NaN  NaN  NaN  NaN  NaN  NaN  NaN\n",
       " F  NaN  NaN  NaN  NaN  NaN  NaN  NaN  NaN  NaN  NaN  NaN  NaN\n",
       " G  NaN  NaN  NaN  NaN  NaN  NaN  NaN  NaN  NaN  NaN  NaN  NaN\n",
       " H  NaN  NaN  NaN  NaN  NaN  NaN  NaN  NaN  NaN  NaN  NaN  NaN,\n",
       " 'Auto6378355384788686078':     1    2    3    4    5    6    7    8    9    10   11   12\n",
       " A  NaN  NaN  NaN  NaN  NaN  NaN  NaN  NaN  NaN  NaN  NaN  NaN\n",
       " B  NaN  NaN  NaN  NaN  NaN  NaN  NaN  NaN  NaN  NaN  NaN  NaN\n",
       " C  NaN  NaN  NaN  NaN  NaN  NaN  NaN  NaN  NaN  NaN  NaN  NaN\n",
       " D  NaN  NaN  NaN  NaN  NaN  NaN  NaN  NaN  NaN  NaN  NaN  NaN\n",
       " E  NaN  NaN  NaN  NaN  NaN  NaN  NaN  NaN  NaN  NaN  NaN  NaN\n",
       " F  NaN  NaN  NaN  NaN  NaN  NaN  NaN  NaN  NaN  NaN  NaN  NaN\n",
       " G  NaN  NaN  NaN  NaN  NaN  NaN  NaN  NaN  NaN  NaN  NaN  NaN\n",
       " H  NaN  NaN  NaN  NaN  NaN  NaN  NaN  NaN  NaN  NaN  NaN  NaN}"
      ]
     },
     "execution_count": 48,
     "metadata": {},
     "output_type": "execute_result"
    }
   ],
   "source": [
    "source_plate_to_destination_dict"
   ]
  },
  {
   "cell_type": "code",
   "execution_count": 11,
   "id": "b8af415f",
   "metadata": {},
   "outputs": [],
   "source": [
    "def map_picked_plates_to_nunc(nunc_barcode):\n",
    "    \n",
    "    mapping_df = df.loc[df['Destination Barcode'] == nunc_barcode, ['Source Barcode','Qtray','Source Region','Destination Barcode','Destination Well','Destination Row','Destination Column']]\n",
    "    \n",
    "    for row, column, qtray in zip(mapping_df['Destination Row'], mapping_df['Destination Column'], mapping_df['Qtray']):\n",
    "        source_plate_to_destination_dict[nunc_barcode].loc[row][column] = 'Q' + str(qtray)\n",
    "        source_plate_to_destination_dict[nunc_barcode].fillna('---', inplace=True)\n",
    "    \n",
    "    source_plate_to_destination_dict[nunc_barcode].style.set_properties(**{'width-min': '100px', 'text-align':'center'})\n",
    "    \n",
    "    return source_plate_to_destination_dict[nunc_barcode]\n",
    "\n",
    "def map_picked_wells_to_nunc(nunc_barcode):\n",
    "    \n",
    "    mapping_df = df.loc[df['Destination Barcode'] == nunc_barcode, ['Source Barcode','Source Region','Destination Barcode','Destination Well','Destination Row','Destination Column']]\n",
    "    \n",
    "    for row, column, source_region in zip(mapping_df['Destination Row'], mapping_df['Destination Column'], mapping_df['Source Region']):\n",
    "        source_well_to_destination_dict[nunc_barcode].loc[row][column] = source_region\n",
    "        source_well_to_destination_dict[nunc_barcode].fillna('---', inplace=True)\n",
    "    \n",
    "    source_well_to_destination_dict[nunc_barcode].style.set_properties(**{'width-min': '100px'})\n",
    "    \n",
    "    return source_well_to_destination_dict[nunc_barcode]\n",
    "\n",
    "def map_picked_from_qtray(qtray_barcode):\n",
    "    \n",
    "    mapping_df = df.loc[df['Source Barcode'] == qtray_barcode, ['Source Barcode','Source Region','Source Row','Source Column']]\n",
    "    \n",
    "    if qtray_format == '6rows_8cols':\n",
    "        for row, column, source_barcode, source_region in zip(mapping_df['Source Row'], mapping_df['Source Column'], mapping_df['Source Barcode'], mapping_df['Source Region']):\n",
    "            source_plate_feature_dict[qtray_barcode].loc[row][column] = source_features_df.loc[(qtray_barcode, source_region)]['Picked Features']\n",
    "            source_plate_feature_dict[qtray_barcode].fillna(0, inplace=True)\n",
    "        return source_plate_feature_dict[qtray_barcode]\n",
    "    \n",
    "    elif qtray_format == '8rows_6cols':\n",
    "        for row, column, source_barcode, source_region in zip(mapping_df['Source Row'], mapping_df['Source Column'], mapping_df['Source Barcode'], mapping_df['Source Region']):\n",
    "            source_plate_flipped_feature_dict[qtray_barcode].loc[row][column] = source_features_df.loc[(qtray_barcode, source_region)]['Picked Features']\n",
    "            source_plate_flipped_feature_dict[qtray_barcode].fillna(0, inplace=True)\n",
    "        return source_plate_flipped_feature_dict[qtray_barcode]"
   ]
  },
  {
   "cell_type": "code",
   "execution_count": 12,
   "id": "f18d9872",
   "metadata": {
    "scrolled": false
   },
   "outputs": [
    {
     "name": "stdout",
     "output_type": "stream",
     "text": [
      "Select Destination Barcode Mapping below:\n"
     ]
    },
    {
     "data": {
      "application/vnd.jupyter.widget-view+json": {
       "model_id": "0633d9dc2959462981ef9650ce14d00b",
       "version_major": 2,
       "version_minor": 0
      },
      "text/plain": [
       "Dropdown(options=('', 'ALL', 'Auto6378355315410504541', 'Auto6378355325394026342', 'Auto6378355335366160713', …"
      ]
     },
     "metadata": {},
     "output_type": "display_data"
    },
    {
     "data": {
      "application/vnd.jupyter.widget-view+json": {
       "model_id": "6aa9f56ab21a454f83c9c154bf07b66f",
       "version_major": 2,
       "version_minor": 0
      },
      "text/plain": [
       "Output()"
      ]
     },
     "metadata": {},
     "output_type": "display_data"
    }
   ],
   "source": [
    "# Create more dropdown filters for users to visualize by destination plate\n",
    "\n",
    "ALL = 'ALL'\n",
    "def unique_sorted_values_plus_ALL(array):\n",
    "    unique = array.unique().tolist()\n",
    "    unique.sort()\n",
    "    unique.insert(0, '')\n",
    "    unique.insert(1, ALL)\n",
    "    return unique\n",
    "\n",
    "dropdown_destination_mapping = widgets.Dropdown(options = unique_sorted_values_plus_ALL(df['Destination Barcode']))\n",
    "\n",
    "output_destination_mapping = widgets.Output()\n",
    "\n",
    "def dropdown_destination_mapping_eventhandler(change):\n",
    "    output_destination_mapping.clear_output()\n",
    "    with output_destination_mapping:\n",
    "        if (change.new == ALL):\n",
    "            for plate in source_well_to_destination_dict:\n",
    "                nunc_source_df_styler = map_picked_plates_to_nunc(plate).style.set_table_attributes(\"style='display:inline'\").set_caption(plate)\n",
    "                nunc_dest_df_styler = map_picked_wells_to_nunc(plate).style.set_table_attributes(\"style='display:inline'\").set_caption(plate)\n",
    "                display_html(nunc_source_df_styler._repr_html_() + nunc_dest_df_styler._repr_html_(), raw=True)\n",
    "                print(\"+\"*43)\n",
    "        else:\n",
    "            #display(df[df['Destination Barcode'] == change.new])\n",
    "            nunc_source_df_styler = map_picked_plates_to_nunc(change.new).style.set_table_attributes(\"style='display:inline'\").set_caption(change.new)\n",
    "            nunc_dest_df_styler = map_picked_wells_to_nunc(change.new).style.set_table_attributes(\"style='display:inline'\").set_caption(change.new)\n",
    "            display_html(nunc_source_df_styler._repr_html_() + nunc_dest_df_styler._repr_html_(), raw=True)\n",
    "\n",
    "print(\"Select Destination Barcode Mapping below:\")\n",
    "dropdown_destination_mapping.observe(dropdown_destination_mapping_eventhandler, names='value')\n",
    "display(dropdown_destination_mapping)\n",
    "display(output_destination_mapping)"
   ]
  },
  {
   "cell_type": "code",
   "execution_count": 13,
   "id": "d37e0b46",
   "metadata": {},
   "outputs": [
    {
     "data": {
      "image/png": "[encoded data removed]",
      "text/plain": [
       "<Figure size 576x216 with 2 Axes>"
      ]
     },
     "metadata": {
      "needs_background": "light"
     },
     "output_type": "display_data"
    }
   ],
   "source": [
    "if len(qtray_values) > 1:\n",
    "    plt.subplots(1, 2, figsize=(8, 3))\n",
    "    current_qtray = 1\n",
    "\n",
    "    for qtray in source_plate_feature_dict:\n",
    "        plt.subplot(1, 2, current_qtray)\n",
    "        plt.title(qtray, pad='30')\n",
    "        plt.tick_params(axis='both', which='major', labelsize=10, labelbottom=True, bottom=False, top=False)\n",
    "        sns.heatmap(map_picked_from_qtray(qtray), annot=map_picked_from_qtray(qtray), cmap='Blues',\n",
    "                         cbar_kws={'label': 'Number of picked colonies'})\n",
    "        plt.yticks(rotation=0)\n",
    "        current_qtray += 1\n",
    "\n",
    "    plt.subplots_adjust(wspace=0.5)\n",
    "    \n",
    "else:\n",
    "    plt.subplots(1, figsize=(8, 3))\n",
    "    current_qtray = 1\n",
    "\n",
    "    for qtray in source_plate_feature_dict:\n",
    "        plt.subplot(1, 2, current_qtray)\n",
    "        plt.title(qtray, pad='30')\n",
    "        plt.tick_params(axis='both', which='major', labelsize=10, labelbottom=True, bottom=False, top=False)\n",
    "        sns.heatmap(map_picked_from_qtray(qtray), annot=map_picked_from_qtray(qtray), cmap='Blues',\n",
    "                         cbar_kws={'label': 'Number of picked colonies'})\n",
    "        plt.yticks(rotation=0)\n",
    "\n",
    "    plt.subplots_adjust(wspace=0.5)\n",
    "    "
   ]
  },
  {
   "cell_type": "markdown",
   "id": "58ff931b",
   "metadata": {},
   "source": [
    "# Summary"
   ]
  },
  {
   "cell_type": "code",
   "execution_count": 14,
   "id": "cfebc017",
   "metadata": {},
   "outputs": [
    {
     "name": "stdout",
     "output_type": "stream",
     "text": [
      "206 features picked\n"
     ]
    },
    {
     "data": {
      "text/html": [
       "<div>\n",
       "<style scoped>\n",
       "    .dataframe tbody tr th:only-of-type {\n",
       "        vertical-align: middle;\n",
       "    }\n",
       "\n",
       "    .dataframe tbody tr th {\n",
       "        vertical-align: top;\n",
       "    }\n",
       "\n",
       "    .dataframe thead th {\n",
       "        text-align: right;\n",
       "    }\n",
       "</style>\n",
       "<table border=\"1\" class=\"dataframe\">\n",
       "  <thead>\n",
       "    <tr style=\"text-align: right;\">\n",
       "      <th></th>\n",
       "      <th>Source Qtray</th>\n",
       "      <th>Picked Features</th>\n",
       "    </tr>\n",
       "  </thead>\n",
       "  <tbody>\n",
       "    <tr>\n",
       "      <th>1</th>\n",
       "      <td>Auto6378355269472791240</td>\n",
       "      <td>206</td>\n",
       "    </tr>\n",
       "  </tbody>\n",
       "</table>\n",
       "</div>"
      ],
      "text/plain": [
       "              Source Qtray  Picked Features\n",
       "1  Auto6378355269472791240              206"
      ]
     },
     "metadata": {},
     "output_type": "display_data"
    },
    {
     "data": {
      "text/html": [
       "<div>\n",
       "<style scoped>\n",
       "    .dataframe tbody tr th:only-of-type {\n",
       "        vertical-align: middle;\n",
       "    }\n",
       "\n",
       "    .dataframe tbody tr th {\n",
       "        vertical-align: top;\n",
       "    }\n",
       "\n",
       "    .dataframe thead th {\n",
       "        text-align: right;\n",
       "    }\n",
       "</style>\n",
       "<table border=\"1\" class=\"dataframe\">\n",
       "  <thead>\n",
       "    <tr style=\"text-align: right;\">\n",
       "      <th></th>\n",
       "      <th>Destination Plate</th>\n",
       "      <th>Deposited Features</th>\n",
       "    </tr>\n",
       "  </thead>\n",
       "  <tbody>\n",
       "    <tr>\n",
       "      <th>1</th>\n",
       "      <td>Auto6378355315410504541</td>\n",
       "      <td>27</td>\n",
       "    </tr>\n",
       "    <tr>\n",
       "      <th>2</th>\n",
       "      <td>Auto6378355325394026342</td>\n",
       "      <td>27</td>\n",
       "    </tr>\n",
       "    <tr>\n",
       "      <th>3</th>\n",
       "      <td>Auto6378355335366160713</td>\n",
       "      <td>27</td>\n",
       "    </tr>\n",
       "    <tr>\n",
       "      <th>4</th>\n",
       "      <td>Auto6378355345316098514</td>\n",
       "      <td>26</td>\n",
       "    </tr>\n",
       "    <tr>\n",
       "      <th>5</th>\n",
       "      <td>Auto6378355355282036205</td>\n",
       "      <td>26</td>\n",
       "    </tr>\n",
       "    <tr>\n",
       "      <th>6</th>\n",
       "      <td>Auto6378355365158503236</td>\n",
       "      <td>26</td>\n",
       "    </tr>\n",
       "    <tr>\n",
       "      <th>7</th>\n",
       "      <td>Auto6378355375033989307</td>\n",
       "      <td>24</td>\n",
       "    </tr>\n",
       "    <tr>\n",
       "      <th>8</th>\n",
       "      <td>Auto6378355384788686078</td>\n",
       "      <td>23</td>\n",
       "    </tr>\n",
       "  </tbody>\n",
       "</table>\n",
       "</div>"
      ],
      "text/plain": [
       "         Destination Plate  Deposited Features\n",
       "1  Auto6378355315410504541                  27\n",
       "2  Auto6378355325394026342                  27\n",
       "3  Auto6378355335366160713                  27\n",
       "4  Auto6378355345316098514                  26\n",
       "5  Auto6378355355282036205                  26\n",
       "6  Auto6378355365158503236                  26\n",
       "7  Auto6378355375033989307                  24\n",
       "8  Auto6378355384788686078                  23"
      ]
     },
     "metadata": {},
     "output_type": "display_data"
    }
   ],
   "source": [
    "# total number of features picked\n",
    "total_features_picked = len(df)\n",
    "print(f'{total_features_picked} features picked')\n",
    "\n",
    "# summary of picked and deposited\n",
    "display(source_df)\n",
    "display(destination_df)"
   ]
  }
 ],
 "metadata": {
  "celltoolbar": "Initialization Cell",
  "hide_input": false,
  "kernelspec": {
   "display_name": "Python 3 (ipykernel)",
   "language": "python",
   "name": "python3"
  },
  "language_info": {
   "codemirror_mode": {
    "name": "ipython",
    "version": 3
   },
   "file_extension": ".py",
   "mimetype": "text/x-python",
   "name": "python",
   "nbconvert_exporter": "python",
   "pygments_lexer": "ipython3",
   "version": "3.8.2"
  }
 },
 "nbformat": 4,
 "nbformat_minor": 5
}
